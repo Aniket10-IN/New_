{
 "cells": [
  {
   "cell_type": "markdown",
   "id": "1543878b",
   "metadata": {},
   "source": [
    "**Exercie 1:**"
   ]
  },
  {
   "cell_type": "markdown",
   "id": "307900b2",
   "metadata": {},
   "source": [
    "> As we can see from the data provided the total number of games played between the teams Dallas Mavericks and \n",
    "Nuggets is 5 and Denver Nuggets won 1 of them. So,\n",
    " \n",
    "> Total no. of events = 5,\n",
    "Games won by Denver Nuggets = 1\n",
    "\n",
    "> So, the probability of Denver Nuggets winning the next game is 1/5 = 0.2 or 20%\n",
    " "
   ]
  },
  {
   "cell_type": "markdown",
   "id": "f8d4117d",
   "metadata": {},
   "source": [
    "**Exercise 2:**"
   ]
  },
  {
   "cell_type": "code",
   "execution_count": 6,
   "id": "74d98ecf",
   "metadata": {},
   "outputs": [],
   "source": [
    "# Creating a DataFrame as given in the problem\n",
    "\n",
    "import pandas as pd\n",
    "import numpy as np\n",
    "import matplotlib.pyplot as plt\n",
    "\n",
    "Input = {'Width' :[25,25, 25, 21, 24, 30, 25, 25, 27, 25, 24, 24, 27, 24, 24, 25, 24, 25, 29, 27, 27, 29, 27, 25, 23],'Height':[24, 25, 25, 24, 24, 29, 25, 25, 29, 29, 29, 25, 25, 27, 25, 24, 25, 30, 29, 30, 24, 25, 25, 25, 29]}"
   ]
  },
  {
   "cell_type": "code",
   "execution_count": 7,
   "id": "8bf36474",
   "metadata": {},
   "outputs": [],
   "source": [
    "df = pd.DataFrame(Input)"
   ]
  },
  {
   "cell_type": "code",
   "execution_count": 8,
   "id": "8fe49cba",
   "metadata": {},
   "outputs": [
    {
     "data": {
      "text/html": [
       "<div>\n",
       "<style scoped>\n",
       "    .dataframe tbody tr th:only-of-type {\n",
       "        vertical-align: middle;\n",
       "    }\n",
       "\n",
       "    .dataframe tbody tr th {\n",
       "        vertical-align: top;\n",
       "    }\n",
       "\n",
       "    .dataframe thead th {\n",
       "        text-align: right;\n",
       "    }\n",
       "</style>\n",
       "<table border=\"1\" class=\"dataframe\">\n",
       "  <thead>\n",
       "    <tr style=\"text-align: right;\">\n",
       "      <th></th>\n",
       "      <th>Width</th>\n",
       "      <th>Height</th>\n",
       "    </tr>\n",
       "  </thead>\n",
       "  <tbody>\n",
       "    <tr>\n",
       "      <th>0</th>\n",
       "      <td>25</td>\n",
       "      <td>24</td>\n",
       "    </tr>\n",
       "    <tr>\n",
       "      <th>1</th>\n",
       "      <td>25</td>\n",
       "      <td>25</td>\n",
       "    </tr>\n",
       "    <tr>\n",
       "      <th>2</th>\n",
       "      <td>25</td>\n",
       "      <td>25</td>\n",
       "    </tr>\n",
       "    <tr>\n",
       "      <th>3</th>\n",
       "      <td>21</td>\n",
       "      <td>24</td>\n",
       "    </tr>\n",
       "    <tr>\n",
       "      <th>4</th>\n",
       "      <td>24</td>\n",
       "      <td>24</td>\n",
       "    </tr>\n",
       "    <tr>\n",
       "      <th>5</th>\n",
       "      <td>30</td>\n",
       "      <td>29</td>\n",
       "    </tr>\n",
       "    <tr>\n",
       "      <th>6</th>\n",
       "      <td>25</td>\n",
       "      <td>25</td>\n",
       "    </tr>\n",
       "    <tr>\n",
       "      <th>7</th>\n",
       "      <td>25</td>\n",
       "      <td>25</td>\n",
       "    </tr>\n",
       "    <tr>\n",
       "      <th>8</th>\n",
       "      <td>27</td>\n",
       "      <td>29</td>\n",
       "    </tr>\n",
       "    <tr>\n",
       "      <th>9</th>\n",
       "      <td>25</td>\n",
       "      <td>29</td>\n",
       "    </tr>\n",
       "    <tr>\n",
       "      <th>10</th>\n",
       "      <td>24</td>\n",
       "      <td>29</td>\n",
       "    </tr>\n",
       "    <tr>\n",
       "      <th>11</th>\n",
       "      <td>24</td>\n",
       "      <td>25</td>\n",
       "    </tr>\n",
       "    <tr>\n",
       "      <th>12</th>\n",
       "      <td>27</td>\n",
       "      <td>25</td>\n",
       "    </tr>\n",
       "    <tr>\n",
       "      <th>13</th>\n",
       "      <td>24</td>\n",
       "      <td>27</td>\n",
       "    </tr>\n",
       "    <tr>\n",
       "      <th>14</th>\n",
       "      <td>24</td>\n",
       "      <td>25</td>\n",
       "    </tr>\n",
       "    <tr>\n",
       "      <th>15</th>\n",
       "      <td>25</td>\n",
       "      <td>24</td>\n",
       "    </tr>\n",
       "    <tr>\n",
       "      <th>16</th>\n",
       "      <td>24</td>\n",
       "      <td>25</td>\n",
       "    </tr>\n",
       "    <tr>\n",
       "      <th>17</th>\n",
       "      <td>25</td>\n",
       "      <td>30</td>\n",
       "    </tr>\n",
       "    <tr>\n",
       "      <th>18</th>\n",
       "      <td>29</td>\n",
       "      <td>29</td>\n",
       "    </tr>\n",
       "    <tr>\n",
       "      <th>19</th>\n",
       "      <td>27</td>\n",
       "      <td>30</td>\n",
       "    </tr>\n",
       "    <tr>\n",
       "      <th>20</th>\n",
       "      <td>27</td>\n",
       "      <td>24</td>\n",
       "    </tr>\n",
       "    <tr>\n",
       "      <th>21</th>\n",
       "      <td>29</td>\n",
       "      <td>25</td>\n",
       "    </tr>\n",
       "    <tr>\n",
       "      <th>22</th>\n",
       "      <td>27</td>\n",
       "      <td>25</td>\n",
       "    </tr>\n",
       "    <tr>\n",
       "      <th>23</th>\n",
       "      <td>25</td>\n",
       "      <td>25</td>\n",
       "    </tr>\n",
       "    <tr>\n",
       "      <th>24</th>\n",
       "      <td>23</td>\n",
       "      <td>29</td>\n",
       "    </tr>\n",
       "  </tbody>\n",
       "</table>\n",
       "</div>"
      ],
      "text/plain": [
       "    Width  Height\n",
       "0      25      24\n",
       "1      25      25\n",
       "2      25      25\n",
       "3      21      24\n",
       "4      24      24\n",
       "5      30      29\n",
       "6      25      25\n",
       "7      25      25\n",
       "8      27      29\n",
       "9      25      29\n",
       "10     24      29\n",
       "11     24      25\n",
       "12     27      25\n",
       "13     24      27\n",
       "14     24      25\n",
       "15     25      24\n",
       "16     24      25\n",
       "17     25      30\n",
       "18     29      29\n",
       "19     27      30\n",
       "20     27      24\n",
       "21     29      25\n",
       "22     27      25\n",
       "23     25      25\n",
       "24     23      29"
      ]
     },
     "execution_count": 8,
     "metadata": {},
     "output_type": "execute_result"
    }
   ],
   "source": [
    "df"
   ]
  },
  {
   "cell_type": "code",
   "execution_count": 15,
   "id": "9990e3f3",
   "metadata": {},
   "outputs": [
    {
     "data": {
      "text/plain": [
       "<AxesSubplot:>"
      ]
     },
     "execution_count": 15,
     "metadata": {},
     "output_type": "execute_result"
    },
    {
     "data": {
      "image/png": "[encoded data removed]",
      "text/plain": [
       "<Figure size 432x288 with 1 Axes>"
      ]
     },
     "metadata": {
      "needs_background": "light"
     },
     "output_type": "display_data"
    }
   ],
   "source": [
    "# using boxplot to detect outliers in the data\n",
    "import seaborn as sns\n",
    "sns.boxplot(data = df)"
   ]
  },
  {
   "cell_type": "markdown",
   "id": "f858bdfc",
   "metadata": {},
   "source": [
    "> Box plots are a graphical depiction of numerical data through their quantiles. It is a very simple but effective way to visualize outliers. We can think about the lower and upper whiskers as the boundaries of the data distribution. Any data points that show above or below the whiskers, can be considered outliers or anomalous."
   ]
  },
  {
   "cell_type": "markdown",
   "id": "e51eeab3",
   "metadata": {},
   "source": [
    "**So, if we get an input with (width 30 and Height 22) , we can say that the data will be considered anomaly with respect to\n",
    "our input data.**"
   ]
  },
  {
   "cell_type": "code",
   "execution_count": null,
   "id": "e239544c",
   "metadata": {},
   "outputs": [],
   "source": []
  }
 ],
 "metadata": {
  "kernelspec": {
   "display_name": "Python 3",
   "language": "python",
   "name": "python3"
  },
  "language_info": {
   "codemirror_mode": {
    "name": "ipython",
    "version": 3
   },
   "file_extension": ".py",
   "mimetype": "text/x-python",
   "name": "python",
   "nbconvert_exporter": "python",
   "pygments_lexer": "ipython3",
   "version": "3.9.0"
  }
 },
 "nbformat": 4,
 "nbformat_minor": 5
}
